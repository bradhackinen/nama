{
 "cells": [
  {
   "attachments": {},
   "cell_type": "markdown",
   "metadata": {},
   "source": [
    "# NAMA Demo"
   ]
  },
  {
   "attachments": {},
   "cell_type": "markdown",
   "metadata": {},
   "source": [
    "First lets create some simple data and install packages"
   ]
  },
  {
   "cell_type": "code",
   "execution_count": 2,
   "metadata": {},
   "outputs": [
    {
     "name": "stdout",
     "output_type": "stream",
     "text": [
      "Processing /home/ben/Code/nama/nama-git\n",
      "\u001b[33m  DEPRECATION: A future pip version will change local packages to be built in-place without first copying to a temporary directory. We recommend you use --use-feature=in-tree-build to test your packages with this new behavior before it becomes the default.\n",
      "   pip 21.3 will remove support for this functionality. You can find discussion regarding this at https://github.com/pypa/pip/issues/7555.\u001b[0m\n",
      "Requirement already satisfied: certifi==2022.12.7 in /home/ben/.pyenv/versions/3.9.7/envs/nama5/lib/python3.9/site-packages (from nama==0.1.0) (2022.12.7)\n",
      "Requirement already satisfied: charset-normalizer==3.1.0 in /home/ben/.pyenv/versions/3.9.7/envs/nama5/lib/python3.9/site-packages (from nama==0.1.0) (3.1.0)\n",
      "Requirement already satisfied: click==8.1.3 in /home/ben/.pyenv/versions/3.9.7/envs/nama5/lib/python3.9/site-packages (from nama==0.1.0) (8.1.3)\n",
      "Requirement already satisfied: cmake==3.26.3 in /home/ben/.pyenv/versions/3.9.7/envs/nama5/lib/python3.9/site-packages (from nama==0.1.0) (3.26.3)\n",
      "Requirement already satisfied: contourpy==1.0.7 in /home/ben/.pyenv/versions/3.9.7/envs/nama5/lib/python3.9/site-packages (from nama==0.1.0) (1.0.7)\n",
      "Requirement already satisfied: cycler==0.11.0 in /home/ben/.pyenv/versions/3.9.7/envs/nama5/lib/python3.9/site-packages (from nama==0.1.0) (0.11.0)\n",
      "Requirement already satisfied: docopt==0.6.2 in /home/ben/.pyenv/versions/3.9.7/envs/nama5/lib/python3.9/site-packages (from nama==0.1.0) (0.6.2)\n",
      "Requirement already satisfied: filelock==3.11.0 in /home/ben/.pyenv/versions/3.9.7/envs/nama5/lib/python3.9/site-packages (from nama==0.1.0) (3.11.0)\n",
      "Requirement already satisfied: fonttools==4.39.3 in /home/ben/.pyenv/versions/3.9.7/envs/nama5/lib/python3.9/site-packages (from nama==0.1.0) (4.39.3)\n",
      "Requirement already satisfied: huggingface-hub==0.13.4 in /home/ben/.pyenv/versions/3.9.7/envs/nama5/lib/python3.9/site-packages (from nama==0.1.0) (0.13.4)\n",
      "Requirement already satisfied: idna==3.4 in /home/ben/.pyenv/versions/3.9.7/envs/nama5/lib/python3.9/site-packages (from nama==0.1.0) (3.4)\n",
      "Requirement already satisfied: importlib-resources==5.12.0 in /home/ben/.pyenv/versions/3.9.7/envs/nama5/lib/python3.9/site-packages (from nama==0.1.0) (5.12.0)\n",
      "Requirement already satisfied: jellyfish==0.11.2 in /home/ben/.pyenv/versions/3.9.7/envs/nama5/lib/python3.9/site-packages (from nama==0.1.0) (0.11.2)\n",
      "Requirement already satisfied: Jinja2==3.1.2 in /home/ben/.pyenv/versions/3.9.7/envs/nama5/lib/python3.9/site-packages (from nama==0.1.0) (3.1.2)\n",
      "Requirement already satisfied: joblib==1.2.0 in /home/ben/.pyenv/versions/3.9.7/envs/nama5/lib/python3.9/site-packages (from nama==0.1.0) (1.2.0)\n",
      "Requirement already satisfied: kiwisolver==1.4.4 in /home/ben/.pyenv/versions/3.9.7/envs/nama5/lib/python3.9/site-packages (from nama==0.1.0) (1.4.4)\n",
      "Requirement already satisfied: lit==16.0.1 in /home/ben/.pyenv/versions/3.9.7/envs/nama5/lib/python3.9/site-packages (from nama==0.1.0) (16.0.1)\n",
      "Requirement already satisfied: MarkupSafe==2.1.2 in /home/ben/.pyenv/versions/3.9.7/envs/nama5/lib/python3.9/site-packages (from nama==0.1.0) (2.1.2)\n",
      "Requirement already satisfied: matplotlib==3.7.1 in /home/ben/.pyenv/versions/3.9.7/envs/nama5/lib/python3.9/site-packages (from nama==0.1.0) (3.7.1)\n",
      "Requirement already satisfied: mpmath==1.3.0 in /home/ben/.pyenv/versions/3.9.7/envs/nama5/lib/python3.9/site-packages (from nama==0.1.0) (1.3.0)\n",
      "Requirement already satisfied: numpy==1.24.2 in /home/ben/.pyenv/versions/3.9.7/envs/nama5/lib/python3.9/site-packages (from nama==0.1.0) (1.24.2)\n",
      "Requirement already satisfied: nvidia-cublas-cu11==11.10.3.66 in /home/ben/.pyenv/versions/3.9.7/envs/nama5/lib/python3.9/site-packages (from nama==0.1.0) (11.10.3.66)\n",
      "Requirement already satisfied: nvidia-cuda-cupti-cu11==11.7.101 in /home/ben/.pyenv/versions/3.9.7/envs/nama5/lib/python3.9/site-packages (from nama==0.1.0) (11.7.101)\n",
      "Requirement already satisfied: nvidia-cuda-nvrtc-cu11==11.7.99 in /home/ben/.pyenv/versions/3.9.7/envs/nama5/lib/python3.9/site-packages (from nama==0.1.0) (11.7.99)\n",
      "Requirement already satisfied: nvidia-cuda-runtime-cu11==11.7.99 in /home/ben/.pyenv/versions/3.9.7/envs/nama5/lib/python3.9/site-packages (from nama==0.1.0) (11.7.99)\n",
      "Requirement already satisfied: nvidia-cudnn-cu11==8.5.0.96 in /home/ben/.pyenv/versions/3.9.7/envs/nama5/lib/python3.9/site-packages (from nama==0.1.0) (8.5.0.96)\n",
      "Requirement already satisfied: nvidia-cufft-cu11==10.9.0.58 in /home/ben/.pyenv/versions/3.9.7/envs/nama5/lib/python3.9/site-packages (from nama==0.1.0) (10.9.0.58)\n",
      "Requirement already satisfied: nvidia-curand-cu11==10.2.10.91 in /home/ben/.pyenv/versions/3.9.7/envs/nama5/lib/python3.9/site-packages (from nama==0.1.0) (10.2.10.91)\n",
      "Requirement already satisfied: nvidia-cusolver-cu11==11.4.0.1 in /home/ben/.pyenv/versions/3.9.7/envs/nama5/lib/python3.9/site-packages (from nama==0.1.0) (11.4.0.1)\n",
      "Requirement already satisfied: nvidia-cusparse-cu11==11.7.4.91 in /home/ben/.pyenv/versions/3.9.7/envs/nama5/lib/python3.9/site-packages (from nama==0.1.0) (11.7.4.91)\n",
      "Requirement already satisfied: nvidia-nccl-cu11==2.14.3 in /home/ben/.pyenv/versions/3.9.7/envs/nama5/lib/python3.9/site-packages (from nama==0.1.0) (2.14.3)\n",
      "Requirement already satisfied: nvidia-nvtx-cu11==11.7.91 in /home/ben/.pyenv/versions/3.9.7/envs/nama5/lib/python3.9/site-packages (from nama==0.1.0) (11.7.91)\n",
      "Requirement already satisfied: packaging==23.0 in /home/ben/.pyenv/versions/3.9.7/envs/nama5/lib/python3.9/site-packages (from nama==0.1.0) (23.0)\n",
      "Requirement already satisfied: pandas==2.0.0 in /home/ben/.pyenv/versions/3.9.7/envs/nama5/lib/python3.9/site-packages (from nama==0.1.0) (2.0.0)\n",
      "Requirement already satisfied: Pillow==9.5.0 in /home/ben/.pyenv/versions/3.9.7/envs/nama5/lib/python3.9/site-packages (from nama==0.1.0) (9.5.0)\n",
      "Requirement already satisfied: pipreqs==0.4.11 in /home/ben/.pyenv/versions/3.9.7/envs/nama5/lib/python3.9/site-packages (from nama==0.1.0) (0.4.11)\n",
      "Requirement already satisfied: polyfuzz==0.4.0 in /home/ben/.pyenv/versions/3.9.7/envs/nama5/lib/python3.9/site-packages (from nama==0.1.0) (0.4.0)\n",
      "Requirement already satisfied: pyparsing==3.0.9 in /home/ben/.pyenv/versions/3.9.7/envs/nama5/lib/python3.9/site-packages (from nama==0.1.0) (3.0.9)\n",
      "Requirement already satisfied: python-dateutil==2.8.2 in /home/ben/.pyenv/versions/3.9.7/envs/nama5/lib/python3.9/site-packages (from nama==0.1.0) (2.8.2)\n",
      "Requirement already satisfied: pytz==2023.3 in /home/ben/.pyenv/versions/3.9.7/envs/nama5/lib/python3.9/site-packages (from nama==0.1.0) (2023.3)\n",
      "Requirement already satisfied: PyYAML==6.0 in /home/ben/.pyenv/versions/3.9.7/envs/nama5/lib/python3.9/site-packages (from nama==0.1.0) (6.0)\n",
      "Requirement already satisfied: rapidfuzz==2.15.1 in /home/ben/.pyenv/versions/3.9.7/envs/nama5/lib/python3.9/site-packages (from nama==0.1.0) (2.15.1)\n",
      "Requirement already satisfied: regex==2023.3.23 in /home/ben/.pyenv/versions/3.9.7/envs/nama5/lib/python3.9/site-packages (from nama==0.1.0) (2023.3.23)\n",
      "Requirement already satisfied: requests==2.28.2 in /home/ben/.pyenv/versions/3.9.7/envs/nama5/lib/python3.9/site-packages (from nama==0.1.0) (2.28.2)\n",
      "Requirement already satisfied: scikit-learn==1.2.2 in /home/ben/.pyenv/versions/3.9.7/envs/nama5/lib/python3.9/site-packages (from nama==0.1.0) (1.2.2)\n",
      "Requirement already satisfied: scipy==1.10.1 in /home/ben/.pyenv/versions/3.9.7/envs/nama5/lib/python3.9/site-packages (from nama==0.1.0) (1.10.1)\n",
      "Requirement already satisfied: seaborn==0.12.2 in /home/ben/.pyenv/versions/3.9.7/envs/nama5/lib/python3.9/site-packages (from nama==0.1.0) (0.12.2)\n",
      "Requirement already satisfied: six==1.16.0 in /home/ben/.pyenv/versions/3.9.7/envs/nama5/lib/python3.9/site-packages (from nama==0.1.0) (1.16.0)\n",
      "Requirement already satisfied: sympy==1.11.1 in /home/ben/.pyenv/versions/3.9.7/envs/nama5/lib/python3.9/site-packages (from nama==0.1.0) (1.11.1)\n",
      "Requirement already satisfied: threadpoolctl==3.1.0 in /home/ben/.pyenv/versions/3.9.7/envs/nama5/lib/python3.9/site-packages (from nama==0.1.0) (3.1.0)\n",
      "Requirement already satisfied: tokenizers==0.13.3 in /home/ben/.pyenv/versions/3.9.7/envs/nama5/lib/python3.9/site-packages (from nama==0.1.0) (0.13.3)\n",
      "Requirement already satisfied: torch==2.0.0 in /home/ben/.pyenv/versions/3.9.7/envs/nama5/lib/python3.9/site-packages (from nama==0.1.0) (2.0.0)\n",
      "Requirement already satisfied: tqdm==4.65.0 in /home/ben/.pyenv/versions/3.9.7/envs/nama5/lib/python3.9/site-packages (from nama==0.1.0) (4.65.0)\n",
      "Requirement already satisfied: transformers==4.27.4 in /home/ben/.pyenv/versions/3.9.7/envs/nama5/lib/python3.9/site-packages (from nama==0.1.0) (4.27.4)\n",
      "Requirement already satisfied: triton==2.0.0 in /home/ben/.pyenv/versions/3.9.7/envs/nama5/lib/python3.9/site-packages (from nama==0.1.0) (2.0.0)\n",
      "Requirement already satisfied: typing_extensions==4.5.0 in /home/ben/.pyenv/versions/3.9.7/envs/nama5/lib/python3.9/site-packages (from nama==0.1.0) (4.5.0)\n",
      "Requirement already satisfied: tzdata==2023.3 in /home/ben/.pyenv/versions/3.9.7/envs/nama5/lib/python3.9/site-packages (from nama==0.1.0) (2023.3)\n",
      "Requirement already satisfied: Unidecode==1.3.6 in /home/ben/.pyenv/versions/3.9.7/envs/nama5/lib/python3.9/site-packages (from nama==0.1.0) (1.3.6)\n",
      "Requirement already satisfied: urllib3==1.26.15 in /home/ben/.pyenv/versions/3.9.7/envs/nama5/lib/python3.9/site-packages (from nama==0.1.0) (1.26.15)\n",
      "Requirement already satisfied: yarg==0.1.9 in /home/ben/.pyenv/versions/3.9.7/envs/nama5/lib/python3.9/site-packages (from nama==0.1.0) (0.1.9)\n",
      "Requirement already satisfied: zipp==3.15.0 in /home/ben/.pyenv/versions/3.9.7/envs/nama5/lib/python3.9/site-packages (from nama==0.1.0) (3.15.0)\n",
      "Requirement already satisfied: setuptools in /home/ben/.pyenv/versions/3.9.7/envs/nama5/lib/python3.9/site-packages (from nvidia-cublas-cu11==11.10.3.66->nama==0.1.0) (57.4.0)\n",
      "Requirement already satisfied: wheel in /home/ben/.pyenv/versions/3.9.7/envs/nama5/lib/python3.9/site-packages (from nvidia-cublas-cu11==11.10.3.66->nama==0.1.0) (0.40.0)\n",
      "Requirement already satisfied: networkx in /home/ben/.pyenv/versions/3.9.7/envs/nama5/lib/python3.9/site-packages (from torch==2.0.0->nama==0.1.0) (3.1)\n",
      "Building wheels for collected packages: nama\n",
      "  Building wheel for nama (setup.py) ... \u001b[?25ldone\n",
      "\u001b[?25h  Created wheel for nama: filename=nama-0.1.0-py3-none-any.whl size=38446 sha256=e8fb8e37a47bd610001b25826d3f1607085f64bfbd9d239bf48b1ea38c1fe3a8\n",
      "  Stored in directory: /home/ben/.cache/pip/wheels/c7/15/c7/d1c09700ff234752988425193418c7c35ab61a2eed58c5f70b\n",
      "Successfully built nama\n",
      "Installing collected packages: nama\n",
      "  Attempting uninstall: nama\n",
      "    Found existing installation: nama 0.1.0\n",
      "    Uninstalling nama-0.1.0:\n",
      "      Successfully uninstalled nama-0.1.0\n",
      "Successfully installed nama-0.1.0\n",
      "\u001b[33mWARNING: You are using pip version 21.2.3; however, version 23.2.1 is available.\n",
      "You should consider upgrading via the '/home/ben/.pyenv/versions/3.9.7/envs/nama5/bin/python3.9 -m pip install --upgrade pip' command.\u001b[0m\n"
     ]
    }
   ],
   "source": [
    "!pip install ../../../nama-git"
   ]
  },
  {
   "cell_type": "code",
   "execution_count": 3,
   "metadata": {},
   "outputs": [
    {
     "name": "stderr",
     "output_type": "stream",
     "text": [
      "/home/ben/.pyenv/versions/3.9.7/envs/nama5/lib/python3.9/site-packages/tqdm/auto.py:21: TqdmWarning: IProgress not found. Please update jupyter and ipywidgets. See https://ipywidgets.readthedocs.io/en/stable/user_install.html\n",
      "  from .autonotebook import tqdm as notebook_tqdm\n"
     ]
    },
    {
     "name": "stdout",
     "output_type": "stream",
     "text": [
      "Toy data:\n",
      "df1=\n",
      "                  name\n",
      "0             ABC Inc.\n",
      "1              abc inc\n",
      "2  A.B.C. INCORPORATED\n",
      "3      The XYZ Company\n",
      "4             X Y Z CO\n",
      "df2=\n",
      "       name\n",
      "0  ABC Inc.\n",
      "1   XYZ Co.\n"
     ]
    }
   ],
   "source": [
    "import pandas as pd\n",
    "import numpy as np\n",
    "from nama import MatchGroups\n",
    "\n",
    "df1 = pd.DataFrame(['ABC Inc.','abc inc','A.B.C. INCORPORATED','The XYZ Company','X Y Z CO'],columns=['name'])\n",
    "df2 = pd.DataFrame(['ABC Inc.','XYZ Co.'],columns=['name'])\n",
    "\n",
    "print(f'Toy data:\\ndf1=\\n{df1}\\ndf2=\\n{df2}')"
   ]
  },
  {
   "attachments": {},
   "cell_type": "markdown",
   "metadata": {},
   "source": [
    "## Match Groups\n",
    "\n",
    "Nama is built around an object called `Matcher Groups`, which holds matching information about a set of strings and partitions the strings into non-overlapping groups.\n",
    "   - Strings in the same group are considered \"matched\"\n",
    "   - Strings in different groups are not matched.\n",
    "Nama provides tools for creating, modifying, saving, and loading matchers. Then matchers can be used to generate unique group ids for a set of strings, or perform two-way merges between pandas dataframes according to the match groups."
   ]
  },
  {
   "cell_type": "code",
   "execution_count": 4,
   "metadata": {},
   "outputs": [
    {
     "name": "stdout",
     "output_type": "stream",
     "text": [
      "Initial string groups:\n",
      "{'ABC Inc.': ['ABC Inc.'], 'abc inc': ['abc inc'], 'A.B.C. INCORPORATED': ['A.B.C. INCORPORATED'], 'The XYZ Company': ['The XYZ Company'], 'X Y Z CO': ['X Y Z CO'], 'XYZ Co.': ['XYZ Co.']}\n"
     ]
    }
   ],
   "source": [
    "# We start matching by creating an empty matcher\n",
    "matcher = MatchGroups()\n",
    "\n",
    "# First we need to add all the strings we want to match to the matcher\n",
    "# (in this case the strings the name column of each dataframe)\n",
    "matcher = matcher.add_strings(df1['name'])\n",
    "matcher = matcher.add_strings(df2['name'])\n",
    "\n",
    "# Initially, strings are automatically assigned to singleton groups\n",
    "# (Groups are automatically labelled according to the most common string,\n",
    "# with ties broken alphabetically)\n",
    "print(f'Initial string groups:\\n{matcher.groups}')"
   ]
  },
  {
   "cell_type": "code",
   "execution_count": 6,
   "metadata": {},
   "outputs": [
    {
     "name": "stdout",
     "output_type": "stream",
     "text": [
      "Exact matching with singleton groups:\n",
      "     name_x match_group    name_y\n",
      "0  ABC Inc.    ABC Inc.  ABC Inc.\n"
     ]
    }
   ],
   "source": [
    "# At this point we can merge on exact matches, but there isn't much point\n",
    "# (equivalent to pandas merge function)\n",
    "print(f\"Exact matching with singleton groups:\\n{matcher.merge_dfs(df1,df2,on='name')}\")"
   ]
  },
  {
   "cell_type": "code",
   "execution_count": 5,
   "metadata": {},
   "outputs": [
    {
     "name": "stdout",
     "output_type": "stream",
     "text": [
      "Updated string groups:\n",
      "{'ABC Inc.': ['ABC Inc.', 'A.B.C. INCORPORATED'], 'abc inc': ['abc inc'], 'The XYZ Company': ['The XYZ Company'], 'X Y Z CO': ['X Y Z CO'], 'XYZ Co.': ['XYZ Co.']}\n"
     ]
    }
   ],
   "source": [
    "# To get better results, we need to modify the matcher.\n",
    "# Unite merges all groups that contain the passed strings.\n",
    "matcher = matcher.unite(['ABC Inc.', 'A.B.C. INCORPORATED'])\n",
    "print(f'Updated string groups:\\n{matcher.groups}')"
   ]
  },
  {
   "attachments": {},
   "cell_type": "markdown",
   "metadata": {},
   "source": [
    "`unite` is very flexible. We can pass a single set of strings, a nested list of strings, or mapping from strings to group labels. The mapping can even be a function that evaluates strings and generates a label.This makes it very simple to do hash collision matching.\n",
    "\n",
    "Hash collision matching works by matching any strings that have the same hash. A hash could be almost anything, but one useful way to do collision matching is to match strings that are identical after simplifying both strings.\n",
    "\n",
    "Nama provides some useful simplification functions in nama.utils. `simplify_corp` strips punctuation and capitalization, and removes common parts of names like starting with \"the\", or ending with \"inc\" or \"ltd\"."
   ]
  },
  {
   "cell_type": "code",
   "execution_count": 6,
   "metadata": {},
   "outputs": [
    {
     "name": "stdout",
     "output_type": "stream",
     "text": [
      "Groups after uniting by simplify_corp:\n",
      "{'A.B.C. INCORPORATED': ['A.B.C. INCORPORATED', 'ABC Inc.', 'abc inc'], 'The XYZ Company': ['The XYZ Company', 'XYZ Co.'], 'X Y Z CO': ['X Y Z CO']}\n"
     ]
    }
   ],
   "source": [
    "from nama import simplify_corp\n",
    "\n",
    "# Make a new matcher for comparison\n",
    "corp_matcher = MatchGroups(matcher.strings())\n",
    "\n",
    "# Unite strings with the same simplified representation\n",
    "corp_matcher = corp_matcher.unite(simplify_corp)\n",
    "\n",
    "print(f'Groups after uniting by simplify_corp:\\n{corp_matcher.groups}')"
   ]
  },
  {
   "cell_type": "markdown",
   "metadata": {},
   "source": [
    "We can also inspect the united groups"
   ]
  },
  {
   "cell_type": "code",
   "execution_count": 9,
   "metadata": {},
   "outputs": [
    {
     "name": "stdout",
     "output_type": "stream",
     "text": [
      "ABC Inc.\n",
      "['ABC Inc.', 'A.B.C. INCORPORATED']\n",
      "                string  count            group\n",
      "0             ABC Inc.      2         ABC Inc.\n",
      "1  A.B.C. INCORPORATED      1         ABC Inc.\n",
      "2      The XYZ Company      1  The XYZ Company\n",
      "3             X Y Z CO      1         X Y Z CO\n",
      "4              XYZ Co.      1          XYZ Co.\n",
      "5              abc inc      1          abc inc\n"
     ]
    }
   ],
   "source": [
    "# Firstly, we can get the group that any string belongs too with\n",
    "print(matcher['A.B.C. INCORPORATED'])\n",
    "# We can inspect the all the strings in the same group (i.e. that match) with\n",
    "print(matcher.matches('A.B.C. INCORPORATED'))\n",
    "# Lastly we can convert the matcher to a dataframe\n",
    "print(matcher.to_df())"
   ]
  },
  {
   "attachments": {},
   "cell_type": "markdown",
   "metadata": {},
   "source": [
    "The matcher can also be converted to a dataframe if we want to cluster the names in one dataset or create a mapping to string groups that can be used accross multiple datasets."
   ]
  },
  {
   "cell_type": "code",
   "execution_count": 10,
   "metadata": {},
   "outputs": [
    {
     "data": {
      "text/html": [
       "<div>\n",
       "<style scoped>\n",
       "    .dataframe tbody tr th:only-of-type {\n",
       "        vertical-align: middle;\n",
       "    }\n",
       "\n",
       "    .dataframe tbody tr th {\n",
       "        vertical-align: top;\n",
       "    }\n",
       "\n",
       "    .dataframe thead th {\n",
       "        text-align: right;\n",
       "    }\n",
       "</style>\n",
       "<table border=\"1\" class=\"dataframe\">\n",
       "  <thead>\n",
       "    <tr style=\"text-align: right;\">\n",
       "      <th></th>\n",
       "      <th>string</th>\n",
       "      <th>count</th>\n",
       "      <th>group</th>\n",
       "    </tr>\n",
       "  </thead>\n",
       "  <tbody>\n",
       "    <tr>\n",
       "      <th>0</th>\n",
       "      <td>ABC Inc.</td>\n",
       "      <td>2</td>\n",
       "      <td>ABC Inc.</td>\n",
       "    </tr>\n",
       "    <tr>\n",
       "      <th>1</th>\n",
       "      <td>A.B.C. INCORPORATED</td>\n",
       "      <td>1</td>\n",
       "      <td>ABC Inc.</td>\n",
       "    </tr>\n",
       "    <tr>\n",
       "      <th>2</th>\n",
       "      <td>The XYZ Company</td>\n",
       "      <td>1</td>\n",
       "      <td>The XYZ Company</td>\n",
       "    </tr>\n",
       "    <tr>\n",
       "      <th>3</th>\n",
       "      <td>X Y Z CO</td>\n",
       "      <td>1</td>\n",
       "      <td>X Y Z CO</td>\n",
       "    </tr>\n",
       "    <tr>\n",
       "      <th>4</th>\n",
       "      <td>XYZ Co.</td>\n",
       "      <td>1</td>\n",
       "      <td>XYZ Co.</td>\n",
       "    </tr>\n",
       "    <tr>\n",
       "      <th>5</th>\n",
       "      <td>abc inc</td>\n",
       "      <td>1</td>\n",
       "      <td>abc inc</td>\n",
       "    </tr>\n",
       "  </tbody>\n",
       "</table>\n",
       "</div>"
      ],
      "text/plain": [
       "                string  count            group\n",
       "0             ABC Inc.      2         ABC Inc.\n",
       "1  A.B.C. INCORPORATED      1         ABC Inc.\n",
       "2      The XYZ Company      1  The XYZ Company\n",
       "3             X Y Z CO      1         X Y Z CO\n",
       "4              XYZ Co.      1          XYZ Co.\n",
       "5              abc inc      1          abc inc"
      ]
     },
     "execution_count": 10,
     "metadata": {},
     "output_type": "execute_result"
    }
   ],
   "source": [
    "matcher_df = matcher.to_df()\n",
    "matcher_df"
   ]
  },
  {
   "attachments": {},
   "cell_type": "markdown",
   "metadata": {},
   "source": [
    "Finally, we can save the matcher in csv format for later use"
   ]
  },
  {
   "cell_type": "code",
   "execution_count": 36,
   "metadata": {},
   "outputs": [],
   "source": [
    "matcher.to_csv('matcher.csv')"
   ]
  },
  {
   "cell_type": "code",
   "execution_count": 37,
   "metadata": {},
   "outputs": [
    {
     "data": {
      "text/html": [
       "<div>\n",
       "<style scoped>\n",
       "    .dataframe tbody tr th:only-of-type {\n",
       "        vertical-align: middle;\n",
       "    }\n",
       "\n",
       "    .dataframe tbody tr th {\n",
       "        vertical-align: top;\n",
       "    }\n",
       "\n",
       "    .dataframe thead th {\n",
       "        text-align: right;\n",
       "    }\n",
       "</style>\n",
       "<table border=\"1\" class=\"dataframe\">\n",
       "  <thead>\n",
       "    <tr style=\"text-align: right;\">\n",
       "      <th></th>\n",
       "      <th>string</th>\n",
       "      <th>count</th>\n",
       "      <th>group</th>\n",
       "    </tr>\n",
       "  </thead>\n",
       "  <tbody>\n",
       "    <tr>\n",
       "      <th>0</th>\n",
       "      <td>ABC Inc.</td>\n",
       "      <td>2</td>\n",
       "      <td>ABC Inc.</td>\n",
       "    </tr>\n",
       "    <tr>\n",
       "      <th>1</th>\n",
       "      <td>A.B.C. INCORPORATED</td>\n",
       "      <td>1</td>\n",
       "      <td>ABC Inc.</td>\n",
       "    </tr>\n",
       "    <tr>\n",
       "      <th>2</th>\n",
       "      <td>The XYZ Company</td>\n",
       "      <td>1</td>\n",
       "      <td>The XYZ Company</td>\n",
       "    </tr>\n",
       "    <tr>\n",
       "      <th>3</th>\n",
       "      <td>X Y Z CO</td>\n",
       "      <td>1</td>\n",
       "      <td>X Y Z CO</td>\n",
       "    </tr>\n",
       "    <tr>\n",
       "      <th>4</th>\n",
       "      <td>XYZ Co.</td>\n",
       "      <td>1</td>\n",
       "      <td>XYZ Co.</td>\n",
       "    </tr>\n",
       "    <tr>\n",
       "      <th>5</th>\n",
       "      <td>abc inc</td>\n",
       "      <td>1</td>\n",
       "      <td>abc inc</td>\n",
       "    </tr>\n",
       "  </tbody>\n",
       "</table>\n",
       "</div>"
      ],
      "text/plain": [
       "                string  count            group\n",
       "0             ABC Inc.      2         ABC Inc.\n",
       "1  A.B.C. INCORPORATED      1         ABC Inc.\n",
       "2      The XYZ Company      1  The XYZ Company\n",
       "3             X Y Z CO      1         X Y Z CO\n",
       "4              XYZ Co.      1          XYZ Co.\n",
       "5              abc inc      1          abc inc"
      ]
     },
     "execution_count": 37,
     "metadata": {},
     "output_type": "execute_result"
    }
   ],
   "source": [
    "from nama import read_csv\n",
    "\n",
    "# ...and load it again at a later time\n",
    "loaded_matcher = read_csv('matcher.csv')\n",
    "loaded_matcher.to_df()"
   ]
  },
  {
   "attachments": {},
   "cell_type": "markdown",
   "metadata": {},
   "source": [
    "# Embedding Similarity\n",
    "\n",
    "The Embedding Similarity model allows us to predict the similarity of larger and more complex strings"
   ]
  },
  {
   "attachments": {},
   "cell_type": "markdown",
   "metadata": {},
   "source": [
    "First we'll need to train a Similarity Model to predict the similarity of larger and more complex groupings for which we have some target values"
   ]
  },
  {
   "cell_type": "code",
   "execution_count": 12,
   "metadata": {},
   "outputs": [
    {
     "name": "stderr",
     "output_type": "stream",
     "text": [
      "training epoch 0: 100%|██████████| 1/1 [00:06<00:00,  6.79s/it]\n",
      "training epoch 1: 100%|██████████| 1/1 [00:06<00:00,  6.09s/it]\n"
     ]
    }
   ],
   "source": [
    "from nama import SimilarityModel\n",
    "\n",
    "train_kwargs = {\n",
    "    'max_epochs': 2,\n",
    "    'warmup_frac': 0.2,\n",
    "    'transformer_lr':1e-5,\n",
    "    'score_lr':10,\n",
    "    'batch_size':8,\n",
    "}\n",
    "\n",
    "sim = SimilarityModel()\n",
    "\n",
    "history_df = sim.train(matcher, verbose=True, **train_kwargs)\n",
    "\n",
    "# Save our trained model to disk\n",
    "sim.save(\"path-to-model.bin\")"
   ]
  },
  {
   "cell_type": "markdown",
   "metadata": {},
   "source": [
    "The Embeddings Model has some powerful function that allow us to unite strings in various ways. \n",
    "\n",
    "The `unite_similar` function allow us to grouping similar strings based on their predicted pairwise similarity. \n",
    "\n",
    "The `unite_nearest` function allow us to uniting embedding strings with their most similar target strings. This function is particularly useful in scenarios where you have a set of target strings and want to match each embedding string to its nearest corresponding target string."
   ]
  },
  {
   "cell_type": "code",
   "execution_count": 13,
   "metadata": {},
   "outputs": [
    {
     "name": "stdout",
     "output_type": "stream",
     "text": [
      "Embedding shape:  torch.Size([1, 128])\n"
     ]
    }
   ],
   "source": [
    "from nama import load_similarity_model\n",
    "\n",
    "# We can use our train model directly or load it from the save file\n",
    "sim = load_similarity_model(\"path-to-model.bin\")\n",
    "\n",
    "# Or we can use the standard model from huggingface\n",
    "# .... TBD\n",
    "\n",
    "# Then we'll have the model embed our matcher\n",
    "embeddings = sim.embed(matcher)\n",
    "\n",
    "# Now we can do some matching\n",
    "# We can unite strings according to their predicted pairwise similarity\n",
    "sim_matcher_similar = embeddings.unite_similar(threshold=0.5)\n",
    "\n",
    "# We can unite strings with each string's most similar target string\n",
    "# This method requires a set of target strings which will be matched to our embedded strings\n",
    "sim_matcher_nearest = embeddings.unite_nearest(target_strings=corp_matcher.strings(),threshold=0)\n",
    "\n",
    "# We can also manipulate the embeddings by slicing like so\n",
    "first_embedding = embeddings[0:1]\n",
    "print(\"Embedding shape: \", first_embedding.V.shape)\n",
    "\n",
    "# Lastly we can save the embeddings for later use\n",
    "embeddings.save(\"path-to-save-embeddings.bin\")"
   ]
  },
  {
   "attachments": {},
   "cell_type": "markdown",
   "metadata": {},
   "source": [
    "With a trained model we can run some tests"
   ]
  },
  {
   "cell_type": "code",
   "execution_count": 14,
   "metadata": {},
   "outputs": [
    {
     "data": {
      "text/html": [
       "<div>\n",
       "<style scoped>\n",
       "    .dataframe tbody tr th:only-of-type {\n",
       "        vertical-align: middle;\n",
       "    }\n",
       "\n",
       "    .dataframe tbody tr th {\n",
       "        vertical-align: top;\n",
       "    }\n",
       "\n",
       "    .dataframe thead th {\n",
       "        text-align: right;\n",
       "    }\n",
       "</style>\n",
       "<table border=\"1\" class=\"dataframe\">\n",
       "  <thead>\n",
       "    <tr style=\"text-align: right;\">\n",
       "      <th></th>\n",
       "      <th>TP</th>\n",
       "      <th>FP</th>\n",
       "      <th>TN</th>\n",
       "      <th>FN</th>\n",
       "      <th>coverage</th>\n",
       "      <th>accuracy</th>\n",
       "      <th>precision</th>\n",
       "      <th>recall</th>\n",
       "      <th>F1</th>\n",
       "    </tr>\n",
       "  </thead>\n",
       "  <tbody>\n",
       "    <tr>\n",
       "      <th>0</th>\n",
       "      <td>2</td>\n",
       "      <td>18</td>\n",
       "      <td>0</td>\n",
       "      <td>0</td>\n",
       "      <td>1.0</td>\n",
       "      <td>0.1</td>\n",
       "      <td>0.1</td>\n",
       "      <td>1.0</td>\n",
       "      <td>0.181818</td>\n",
       "    </tr>\n",
       "  </tbody>\n",
       "</table>\n",
       "</div>"
      ],
      "text/plain": [
       "   TP  FP  TN  FN  coverage  accuracy  precision  recall        F1\n",
       "0   2  18   0   0       1.0       0.1        0.1     1.0  0.181818"
      ]
     },
     "execution_count": 14,
     "metadata": {},
     "output_type": "execute_result"
    }
   ],
   "source": [
    "# We can test the similarity model with a single threshold\n",
    "test_scores = sim.test(matcher, threshold=0.5)\n",
    "pd.DataFrame([test_scores])"
   ]
  },
  {
   "cell_type": "code",
   "execution_count": 15,
   "metadata": {},
   "outputs": [
    {
     "data": {
      "text/html": [
       "<div>\n",
       "<style scoped>\n",
       "    .dataframe tbody tr th:only-of-type {\n",
       "        vertical-align: middle;\n",
       "    }\n",
       "\n",
       "    .dataframe tbody tr th {\n",
       "        vertical-align: top;\n",
       "    }\n",
       "\n",
       "    .dataframe thead th {\n",
       "        text-align: right;\n",
       "    }\n",
       "</style>\n",
       "<table border=\"1\" class=\"dataframe\">\n",
       "  <thead>\n",
       "    <tr style=\"text-align: right;\">\n",
       "      <th></th>\n",
       "      <th>TP</th>\n",
       "      <th>FP</th>\n",
       "      <th>TN</th>\n",
       "      <th>FN</th>\n",
       "      <th>coverage</th>\n",
       "      <th>accuracy</th>\n",
       "      <th>precision</th>\n",
       "      <th>recall</th>\n",
       "      <th>F1</th>\n",
       "      <th>threshold</th>\n",
       "    </tr>\n",
       "  </thead>\n",
       "  <tbody>\n",
       "    <tr>\n",
       "      <th>0</th>\n",
       "      <td>2</td>\n",
       "      <td>18</td>\n",
       "      <td>0</td>\n",
       "      <td>0</td>\n",
       "      <td>1.0</td>\n",
       "      <td>0.1</td>\n",
       "      <td>0.1</td>\n",
       "      <td>1.0</td>\n",
       "      <td>0.181818</td>\n",
       "      <td>0.0</td>\n",
       "    </tr>\n",
       "    <tr>\n",
       "      <th>1</th>\n",
       "      <td>2</td>\n",
       "      <td>18</td>\n",
       "      <td>0</td>\n",
       "      <td>0</td>\n",
       "      <td>1.0</td>\n",
       "      <td>0.1</td>\n",
       "      <td>0.1</td>\n",
       "      <td>1.0</td>\n",
       "      <td>0.181818</td>\n",
       "      <td>0.1</td>\n",
       "    </tr>\n",
       "    <tr>\n",
       "      <th>2</th>\n",
       "      <td>2</td>\n",
       "      <td>18</td>\n",
       "      <td>0</td>\n",
       "      <td>0</td>\n",
       "      <td>1.0</td>\n",
       "      <td>0.1</td>\n",
       "      <td>0.1</td>\n",
       "      <td>1.0</td>\n",
       "      <td>0.181818</td>\n",
       "      <td>0.2</td>\n",
       "    </tr>\n",
       "    <tr>\n",
       "      <th>3</th>\n",
       "      <td>2</td>\n",
       "      <td>18</td>\n",
       "      <td>0</td>\n",
       "      <td>0</td>\n",
       "      <td>1.0</td>\n",
       "      <td>0.1</td>\n",
       "      <td>0.1</td>\n",
       "      <td>1.0</td>\n",
       "      <td>0.181818</td>\n",
       "      <td>0.3</td>\n",
       "    </tr>\n",
       "    <tr>\n",
       "      <th>4</th>\n",
       "      <td>2</td>\n",
       "      <td>18</td>\n",
       "      <td>0</td>\n",
       "      <td>0</td>\n",
       "      <td>1.0</td>\n",
       "      <td>0.1</td>\n",
       "      <td>0.1</td>\n",
       "      <td>1.0</td>\n",
       "      <td>0.181818</td>\n",
       "      <td>0.4</td>\n",
       "    </tr>\n",
       "    <tr>\n",
       "      <th>5</th>\n",
       "      <td>2</td>\n",
       "      <td>18</td>\n",
       "      <td>0</td>\n",
       "      <td>0</td>\n",
       "      <td>1.0</td>\n",
       "      <td>0.1</td>\n",
       "      <td>0.1</td>\n",
       "      <td>1.0</td>\n",
       "      <td>0.181818</td>\n",
       "      <td>0.5</td>\n",
       "    </tr>\n",
       "    <tr>\n",
       "      <th>6</th>\n",
       "      <td>2</td>\n",
       "      <td>18</td>\n",
       "      <td>0</td>\n",
       "      <td>0</td>\n",
       "      <td>1.0</td>\n",
       "      <td>0.1</td>\n",
       "      <td>0.1</td>\n",
       "      <td>1.0</td>\n",
       "      <td>0.181818</td>\n",
       "      <td>0.6</td>\n",
       "    </tr>\n",
       "    <tr>\n",
       "      <th>7</th>\n",
       "      <td>2</td>\n",
       "      <td>18</td>\n",
       "      <td>0</td>\n",
       "      <td>0</td>\n",
       "      <td>1.0</td>\n",
       "      <td>0.1</td>\n",
       "      <td>0.1</td>\n",
       "      <td>1.0</td>\n",
       "      <td>0.181818</td>\n",
       "      <td>0.7</td>\n",
       "    </tr>\n",
       "    <tr>\n",
       "      <th>8</th>\n",
       "      <td>0</td>\n",
       "      <td>9</td>\n",
       "      <td>9</td>\n",
       "      <td>2</td>\n",
       "      <td>1.0</td>\n",
       "      <td>0.0</td>\n",
       "      <td>0.0</td>\n",
       "      <td>0.0</td>\n",
       "      <td>0.000000</td>\n",
       "      <td>0.8</td>\n",
       "    </tr>\n",
       "    <tr>\n",
       "      <th>9</th>\n",
       "      <td>0</td>\n",
       "      <td>1</td>\n",
       "      <td>17</td>\n",
       "      <td>2</td>\n",
       "      <td>1.0</td>\n",
       "      <td>0.0</td>\n",
       "      <td>0.0</td>\n",
       "      <td>0.0</td>\n",
       "      <td>0.000000</td>\n",
       "      <td>0.9</td>\n",
       "    </tr>\n",
       "    <tr>\n",
       "      <th>10</th>\n",
       "      <td>0</td>\n",
       "      <td>0</td>\n",
       "      <td>18</td>\n",
       "      <td>2</td>\n",
       "      <td>1.0</td>\n",
       "      <td>0.0</td>\n",
       "      <td>0.0</td>\n",
       "      <td>0.0</td>\n",
       "      <td>0.000000</td>\n",
       "      <td>1.0</td>\n",
       "    </tr>\n",
       "  </tbody>\n",
       "</table>\n",
       "</div>"
      ],
      "text/plain": [
       "    TP  FP  TN  FN  coverage  accuracy  precision  recall        F1  threshold\n",
       "0    2  18   0   0       1.0       0.1        0.1     1.0  0.181818        0.0\n",
       "1    2  18   0   0       1.0       0.1        0.1     1.0  0.181818        0.1\n",
       "2    2  18   0   0       1.0       0.1        0.1     1.0  0.181818        0.2\n",
       "3    2  18   0   0       1.0       0.1        0.1     1.0  0.181818        0.3\n",
       "4    2  18   0   0       1.0       0.1        0.1     1.0  0.181818        0.4\n",
       "5    2  18   0   0       1.0       0.1        0.1     1.0  0.181818        0.5\n",
       "6    2  18   0   0       1.0       0.1        0.1     1.0  0.181818        0.6\n",
       "7    2  18   0   0       1.0       0.1        0.1     1.0  0.181818        0.7\n",
       "8    0   9   9   2       1.0       0.0        0.0     0.0  0.000000        0.8\n",
       "9    0   1  17   2       1.0       0.0        0.0     0.0  0.000000        0.9\n",
       "10   0   0  18   2       1.0       0.0        0.0     0.0  0.000000        1.0"
      ]
     },
     "execution_count": 15,
     "metadata": {},
     "output_type": "execute_result"
    }
   ],
   "source": [
    "# Or can also run a test over multiple thresholds to find the optimal one\n",
    "test_scores = sim.test(matcher, threshold=np.linspace(0,1,11))\n",
    "pd.DataFrame(test_scores)"
   ]
  }
 ],
 "metadata": {
  "kernelspec": {
   "display_name": "Python 3",
   "language": "python",
   "name": "python3"
  },
  "language_info": {
   "codemirror_mode": {
    "name": "ipython",
    "version": 3
   },
   "file_extension": ".py",
   "mimetype": "text/x-python",
   "name": "python",
   "nbconvert_exporter": "python",
   "pygments_lexer": "ipython3",
   "version": "3.9.7"
  },
  "orig_nbformat": 4,
  "vscode": {
   "interpreter": {
    "hash": "e7370f93d1d0cde622a1f8e1c04877d8463912d04d973331ad4851f04de6915a"
   }
  }
 },
 "nbformat": 4,
 "nbformat_minor": 2
}
